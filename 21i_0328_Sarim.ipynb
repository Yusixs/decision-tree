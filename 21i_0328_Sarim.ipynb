{
 "cells": [
  {
   "cell_type": "markdown",
   "id": "23a6bddc",
   "metadata": {},
   "source": [
    "# Lab 8: Decision Trees\n",
    "# Submitted by: Sarim Aeyzaz (i21-0328)"
   ]
  },
  {
   "cell_type": "code",
   "execution_count": 1,
   "id": "9add8d5b",
   "metadata": {},
   "outputs": [],
   "source": [
    "from sklearn.metrics import confusion_matrix, ConfusionMatrixDisplay\n",
    "from sklearn.metrics import classification_report\n",
    "import matplotlib.pyplot as plt\n",
    "import pandas as pd\n",
    "import numpy as np"
   ]
  },
  {
   "cell_type": "code",
   "execution_count": 2,
   "id": "3cfd876b",
   "metadata": {},
   "outputs": [],
   "source": [
    "class DecisionTree:\n",
    "    \n",
    "    # Initialization\n",
    "    def __init__(self, df, label):\n",
    "        self.df = df\n",
    "        self.label = label\n",
    "        self.labelValues = df[label].unique()\n",
    "        self.tree = {}\n",
    "    \n",
    "    \n",
    "    \n",
    "    # Entropy formula\n",
    "    def entropy(self, df):\n",
    "        length, entropy = len(df), 0\n",
    "\n",
    "        # Iterates over Yes and No basically\n",
    "        for l in self.labelValues: \n",
    "\n",
    "            # How many Yes's (or No's in second iteration)\n",
    "            labelCount = len(df[df[self.label] == l])\n",
    "            if labelCount == 0:\n",
    "                continue\n",
    "            entropy += -(labelCount/length) * np.log2(labelCount/length)\n",
    "    \n",
    "        return entropy\n",
    "    \n",
    "    \n",
    "    \n",
    "    # Information gain of a feature (column)\n",
    "    def informationGain(self, featureName, df):\n",
    "        featureValueList, totalLength, entropyCombined = df[featureName].unique(), len(df), 0\n",
    "\n",
    "        # For each value of the feature, get its totalCount, its entropy and add it to entropyCombined variable\n",
    "        for value in featureValueList:\n",
    "            featureDf = df[df[featureName] == value]\n",
    "            featureLength = len(featureDf)\n",
    "            featureEntropy = self.entropy(featureDf)\n",
    "            entropyCombined += featureLength/totalLength * featureEntropy\n",
    "\n",
    "        return self.entropy(df) - entropyCombined # Info gain\n",
    "    \n",
    "    \n",
    "    \n",
    "    # Selecting best feature based on current dataframe entered\n",
    "    def bestFeature(self, df):\n",
    "    \n",
    "        featureList = df.columns.drop(self.label) # Removing label column\n",
    "        allInfoGains = [(self.informationGain(feature, df), feature) for feature in featureList]\n",
    "        maximumInfoGain, maximumFeature = max(allInfoGains, key = lambda x:x[0])\n",
    "\n",
    "        return maximumFeature\n",
    "    \n",
    "    \n",
    "    \n",
    "    # Creating subtree for a feature (used in makeTree function)\n",
    "    def createSubTree(self, featureName, df):\n",
    "        featureValuesAndCounts, tree = df[featureName].value_counts(), {}\n",
    "\n",
    "        # For every value in the feature, create its filtered dataframe\n",
    "        for value, count in featureValuesAndCounts.iteritems():\n",
    "            featureDf, assigned = df[df[featureName] == value], False\n",
    "\n",
    "            # Iterate over yes and no for each value\n",
    "            for l in self.labelValues:\n",
    "\n",
    "                # If labelCount == count, this would indicate a pure class, assign it in the tree\n",
    "                # and remove dataframe rows which represent this pure class\n",
    "                labelCount = len(featureDf[featureDf[self.label] == l])\n",
    "                if labelCount == count:\n",
    "                    tree[value] = l\n",
    "                    df = df[df[featureName] != value] # Important: Removing rows feature's value\n",
    "                    assigned = True\n",
    "\n",
    "            # Otherwise, the value is still an impure and can be expanded further, mark it as \"?\" for the makeTree\n",
    "            # function to check later\n",
    "            if not assigned:\n",
    "                tree[value] = \"?\"\n",
    "\n",
    "        return tree, df\n",
    "    \n",
    "    \n",
    "    \n",
    "    # Making the tree :D. Recursion of the tree will end when dataset is empty or no more branches can be expanded\n",
    "    def makeTree(self, root, previousValue, df):\n",
    "\n",
    "        # One of the base cases\n",
    "        if len(df) != 0: \n",
    "\n",
    "            # Get best feature and generate its tree\n",
    "            featureName = self.bestFeature(df)\n",
    "            tree, df = self.createSubTree(featureName, df)\n",
    "\n",
    "            # If this is a previous value, extend the tree from that value onwards\n",
    "            if previousValue != None:\n",
    "                root[previousValue] = dict()\n",
    "                root[previousValue][featureName] = tree\n",
    "                nextRoot = root[previousValue][featureName]\n",
    "\n",
    "            # Otherwise, start from the root node\n",
    "            else:\n",
    "                root[featureName] = tree\n",
    "                nextRoot = root[featureName]\n",
    "\n",
    "            # For every value in the tree that can be expanded further, run the recusrive makeTree function\n",
    "            for value, branch in nextRoot.items(): \n",
    "                if branch == \"?\":\n",
    "                    featureDf = df[df[featureName] == value]\n",
    "                    self.makeTree(nextRoot, value, featureDf)\n",
    "\n",
    "                    \n",
    "                    \n",
    "    # Standard Fit function\n",
    "    def fit(self):\n",
    "        self.makeTree(self.tree, None, df)\n",
    "        \n",
    "        \n",
    "        \n",
    "    def printTree(self):\n",
    "        print(self.tree)\n",
    "        \n",
    "        \n",
    "        \n",
    "    # Standard predict function (give row as input)\n",
    "    def predict(self, tree, row):\n",
    "        # Return if it's a leaf node\n",
    "        if not isinstance(tree, dict):\n",
    "            return tree\n",
    "        else:\n",
    "            # Get the feature name from tree and the its value from the row\n",
    "            label = next(iter(tree))\n",
    "            value = row[label]\n",
    "\n",
    "            # If the value exists in the tree, do a recursive search till base case and get either a yes or no at the end\n",
    "            if value in tree[label]:\n",
    "                return self.predict(tree[label][value], row)\n",
    "            else:\n",
    "                return None\n",
    "          \n",
    "        \n",
    "        \n",
    "    # Computing Accuracy of Decision Tree\n",
    "    def evaluate(self):\n",
    "        predictedValues = [self.predict(self.tree, self.df.iloc[index]) for index, row in self.df.iterrows()]\n",
    "        truth = self.df[self.label]\n",
    "        print(classification_report(truth, predictedValues))\n",
    "        matrix = confusion_matrix(truth, predictedValues)\n",
    "        graphMatrix = ConfusionMatrixDisplay(confusion_matrix = matrix)\n",
    "        graphMatrix.plot()\n",
    "        plt.show()"
   ]
  },
  {
   "cell_type": "code",
   "execution_count": 3,
   "id": "95e475f5",
   "metadata": {},
   "outputs": [
    {
     "data": {
      "text/html": [
       "<div>\n",
       "<style scoped>\n",
       "    .dataframe tbody tr th:only-of-type {\n",
       "        vertical-align: middle;\n",
       "    }\n",
       "\n",
       "    .dataframe tbody tr th {\n",
       "        vertical-align: top;\n",
       "    }\n",
       "\n",
       "    .dataframe thead th {\n",
       "        text-align: right;\n",
       "    }\n",
       "</style>\n",
       "<table border=\"1\" class=\"dataframe\">\n",
       "  <thead>\n",
       "    <tr style=\"text-align: right;\">\n",
       "      <th></th>\n",
       "      <th>Outlook</th>\n",
       "      <th>Temperature</th>\n",
       "      <th>Humidity</th>\n",
       "      <th>Wind</th>\n",
       "      <th>Play Tennis</th>\n",
       "    </tr>\n",
       "  </thead>\n",
       "  <tbody>\n",
       "    <tr>\n",
       "      <th>0</th>\n",
       "      <td>Sunny</td>\n",
       "      <td>Hot</td>\n",
       "      <td>High</td>\n",
       "      <td>Weak</td>\n",
       "      <td>No</td>\n",
       "    </tr>\n",
       "    <tr>\n",
       "      <th>1</th>\n",
       "      <td>Sunny</td>\n",
       "      <td>Hot</td>\n",
       "      <td>High</td>\n",
       "      <td>Strong</td>\n",
       "      <td>No</td>\n",
       "    </tr>\n",
       "    <tr>\n",
       "      <th>2</th>\n",
       "      <td>Overcast</td>\n",
       "      <td>Hot</td>\n",
       "      <td>High</td>\n",
       "      <td>Weak</td>\n",
       "      <td>Yes</td>\n",
       "    </tr>\n",
       "    <tr>\n",
       "      <th>3</th>\n",
       "      <td>Rain</td>\n",
       "      <td>Mild</td>\n",
       "      <td>High</td>\n",
       "      <td>Weak</td>\n",
       "      <td>Yes</td>\n",
       "    </tr>\n",
       "    <tr>\n",
       "      <th>4</th>\n",
       "      <td>Rain</td>\n",
       "      <td>Cool</td>\n",
       "      <td>Normal</td>\n",
       "      <td>Weak</td>\n",
       "      <td>Yes</td>\n",
       "    </tr>\n",
       "  </tbody>\n",
       "</table>\n",
       "</div>"
      ],
      "text/plain": [
       "    Outlook Temperature Humidity    Wind Play Tennis\n",
       "0     Sunny         Hot     High    Weak          No\n",
       "1     Sunny         Hot     High  Strong          No\n",
       "2  Overcast         Hot     High    Weak         Yes\n",
       "3      Rain        Mild     High    Weak         Yes\n",
       "4      Rain        Cool   Normal    Weak         Yes"
      ]
     },
     "execution_count": 3,
     "metadata": {},
     "output_type": "execute_result"
    }
   ],
   "source": [
    "df = pd.read_csv(\"PlayTennis.csv\")\n",
    "df.head()"
   ]
  },
  {
   "cell_type": "code",
   "execution_count": 4,
   "id": "ab93bb8a",
   "metadata": {},
   "outputs": [],
   "source": [
    "model = DecisionTree(df, 'Play Tennis')"
   ]
  },
  {
   "cell_type": "code",
   "execution_count": 5,
   "id": "34a505f4",
   "metadata": {},
   "outputs": [],
   "source": [
    "model.fit()"
   ]
  },
  {
   "cell_type": "code",
   "execution_count": 6,
   "id": "cb2a91e3",
   "metadata": {},
   "outputs": [
    {
     "name": "stdout",
     "output_type": "stream",
     "text": [
      "{'Outlook': {'Sunny': {'Humidity': {'High': 'No', 'Normal': 'Yes'}}, 'Rain': {'Wind': {'Weak': 'Yes', 'Strong': 'No'}}, 'Overcast': 'Yes'}}\n"
     ]
    }
   ],
   "source": [
    "model.printTree()"
   ]
  },
  {
   "cell_type": "code",
   "execution_count": 7,
   "id": "511dac9e",
   "metadata": {},
   "outputs": [
    {
     "data": {
      "text/plain": [
       "{'Outlook': {'Sunny': {'Humidity': {'High': 'No', 'Normal': 'Yes'}},\n",
       "  'Overcast': 'Yes',\n",
       "  'Rain': {'Wind': {'Weak': 'Yes', 'Strong': 'No'}}}}"
      ]
     },
     "execution_count": 7,
     "metadata": {},
     "output_type": "execute_result"
    }
   ],
   "source": [
    "# Output in more pretty form :D\n",
    "\n",
    "{\n",
    "    'Outlook': {\n",
    "        'Sunny': {\n",
    "            'Humidity': {\n",
    "                'High': 'No', \n",
    "                'Normal': 'Yes'\n",
    "            }\n",
    "        },\n",
    "        'Overcast': 'Yes',\n",
    "        'Rain': {\n",
    "            'Wind': {\n",
    "                'Weak': 'Yes', \n",
    "                'Strong': 'No'\n",
    "            }\n",
    "        }\n",
    "    }\n",
    "}"
   ]
  },
  {
   "cell_type": "code",
   "execution_count": 8,
   "id": "7e40e6e8",
   "metadata": {},
   "outputs": [
    {
     "name": "stdout",
     "output_type": "stream",
     "text": [
      "              precision    recall  f1-score   support\n",
      "\n",
      "          No       1.00      1.00      1.00         5\n",
      "         Yes       1.00      1.00      1.00         9\n",
      "\n",
      "    accuracy                           1.00        14\n",
      "   macro avg       1.00      1.00      1.00        14\n",
      "weighted avg       1.00      1.00      1.00        14\n",
      "\n"
     ]
    },
    {
     "data": {
      "image/png": "[encoded data removed]",
      "text/plain": [
       "<Figure size 640x480 with 2 Axes>"
      ]
     },
     "metadata": {},
     "output_type": "display_data"
    }
   ],
   "source": [
    "model.evaluate()"
   ]
  }
 ],
 "metadata": {
  "kernelspec": {
   "display_name": "Python 3 (ipykernel)",
   "language": "python",
   "name": "python3"
  },
  "language_info": {
   "codemirror_mode": {
    "name": "ipython",
    "version": 3
   },
   "file_extension": ".py",
   "mimetype": "text/x-python",
   "name": "python",
   "nbconvert_exporter": "python",
   "pygments_lexer": "ipython3",
   "version": "3.10.7"
  }
 },
 "nbformat": 4,
 "nbformat_minor": 5
}
